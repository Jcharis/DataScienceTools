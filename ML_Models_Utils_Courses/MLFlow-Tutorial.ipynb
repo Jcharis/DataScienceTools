{
 "cells": [
  {
   "cell_type": "markdown",
   "id": "6c181934-6ee1-4bb1-bc8b-579c32b6d28c",
   "metadata": {},
   "source": [
    "### MLFlow Tutorial\n",
    "+ ML Model Experiment Tracking & Monitoring\n",
    "+ Track Metrics, Params, Models and Artifacts"
   ]
  },
  {
   "cell_type": "code",
   "execution_count": 1,
   "id": "927c222a-1272-41b4-bc23-e440a9a5620f",
   "metadata": {},
   "outputs": [],
   "source": [
    "# Load EDA Pkgs\n",
    "import pandas as pd\n",
    "import numpy as np\n",
    "# Load Data vis pkgs\n",
    "import matplotlib.pyplot as plt\n",
    "import seaborn as sns"
   ]
  },
  {
   "cell_type": "code",
   "execution_count": 2,
   "id": "f78552ca-b304-4590-98e3-efa234037695",
   "metadata": {},
   "outputs": [],
   "source": [
    "# Load ML Pkgs\n",
    "from sklearn.linear_model import LogisticRegression\n",
    "from sklearn.naive_bayes import MultinomialNB\n",
    "from sklearn.tree import DecisionTreeClassifier\n",
    "from sklearn.pipeline import Pipeline\n",
    "from sklearn.model_selection import train_test_split\n",
    "from sklearn.metrics import accuracy_score,classification_report,confusion_matrix\n",
    "from sklearn.feature_extraction.text import CountVectorizer,TfidfVectorizer\n",
    "from sklearn.dummy import DummyClassifier"
   ]
  },
  {
   "cell_type": "code",
   "execution_count": 3,
   "id": "123dbf22-ded9-4800-a8b7-2dabca23c5dd",
   "metadata": {},
   "outputs": [],
   "source": [
    "# Load Data\n",
    "df = pd.read_csv(\"data/hate_speech_labeled_data.csv\")\n",
    "class_labels = {\"hate speech\":0,\n",
    "\"offensive language\":1,\n",
    " \"neither\":2,}\n",
    "df[\"class_labels\"] = df[\"class\"].map({v:k for k,v in class_labels.items()})"
   ]
  },
  {
   "cell_type": "code",
   "execution_count": 4,
   "id": "d868e356-cf31-4f07-a5db-f476069245ab",
   "metadata": {},
   "outputs": [
    {
     "data": {
      "text/html": [
       "<div>\n",
       "<style scoped>\n",
       "    .dataframe tbody tr th:only-of-type {\n",
       "        vertical-align: middle;\n",
       "    }\n",
       "\n",
       "    .dataframe tbody tr th {\n",
       "        vertical-align: top;\n",
       "    }\n",
       "\n",
       "    .dataframe thead th {\n",
       "        text-align: right;\n",
       "    }\n",
       "</style>\n",
       "<table border=\"1\" class=\"dataframe\">\n",
       "  <thead>\n",
       "    <tr style=\"text-align: right;\">\n",
       "      <th></th>\n",
       "      <th>Unnamed: 0</th>\n",
       "      <th>count</th>\n",
       "      <th>hate_speech</th>\n",
       "      <th>offensive_language</th>\n",
       "      <th>neither</th>\n",
       "      <th>class</th>\n",
       "      <th>tweet</th>\n",
       "      <th>class_labels</th>\n",
       "    </tr>\n",
       "  </thead>\n",
       "  <tbody>\n",
       "    <tr>\n",
       "      <th>0</th>\n",
       "      <td>0</td>\n",
       "      <td>3</td>\n",
       "      <td>0</td>\n",
       "      <td>0</td>\n",
       "      <td>3</td>\n",
       "      <td>2</td>\n",
       "      <td>!!! RT @mayasolovely: As a woman you shouldn't...</td>\n",
       "      <td>neither</td>\n",
       "    </tr>\n",
       "    <tr>\n",
       "      <th>1</th>\n",
       "      <td>1</td>\n",
       "      <td>3</td>\n",
       "      <td>0</td>\n",
       "      <td>3</td>\n",
       "      <td>0</td>\n",
       "      <td>1</td>\n",
       "      <td>!!!!! RT @mleew17: boy dats cold...tyga dwn ba...</td>\n",
       "      <td>offensive language</td>\n",
       "    </tr>\n",
       "    <tr>\n",
       "      <th>2</th>\n",
       "      <td>2</td>\n",
       "      <td>3</td>\n",
       "      <td>0</td>\n",
       "      <td>3</td>\n",
       "      <td>0</td>\n",
       "      <td>1</td>\n",
       "      <td>!!!!!!! RT @UrKindOfBrand Dawg!!!! RT @80sbaby...</td>\n",
       "      <td>offensive language</td>\n",
       "    </tr>\n",
       "    <tr>\n",
       "      <th>3</th>\n",
       "      <td>3</td>\n",
       "      <td>3</td>\n",
       "      <td>0</td>\n",
       "      <td>2</td>\n",
       "      <td>1</td>\n",
       "      <td>1</td>\n",
       "      <td>!!!!!!!!! RT @C_G_Anderson: @viva_based she lo...</td>\n",
       "      <td>offensive language</td>\n",
       "    </tr>\n",
       "    <tr>\n",
       "      <th>4</th>\n",
       "      <td>4</td>\n",
       "      <td>6</td>\n",
       "      <td>0</td>\n",
       "      <td>6</td>\n",
       "      <td>0</td>\n",
       "      <td>1</td>\n",
       "      <td>!!!!!!!!!!!!! RT @ShenikaRoberts: The shit you...</td>\n",
       "      <td>offensive language</td>\n",
       "    </tr>\n",
       "  </tbody>\n",
       "</table>\n",
       "</div>"
      ],
      "text/plain": [
       "   Unnamed: 0  count  hate_speech  offensive_language  neither  class  \\\n",
       "0           0      3            0                   0        3      2   \n",
       "1           1      3            0                   3        0      1   \n",
       "2           2      3            0                   3        0      1   \n",
       "3           3      3            0                   2        1      1   \n",
       "4           4      6            0                   6        0      1   \n",
       "\n",
       "                                               tweet        class_labels  \n",
       "0  !!! RT @mayasolovely: As a woman you shouldn't...             neither  \n",
       "1  !!!!! RT @mleew17: boy dats cold...tyga dwn ba...  offensive language  \n",
       "2  !!!!!!! RT @UrKindOfBrand Dawg!!!! RT @80sbaby...  offensive language  \n",
       "3  !!!!!!!!! RT @C_G_Anderson: @viva_based she lo...  offensive language  \n",
       "4  !!!!!!!!!!!!! RT @ShenikaRoberts: The shit you...  offensive language  "
      ]
     },
     "execution_count": 4,
     "metadata": {},
     "output_type": "execute_result"
    }
   ],
   "source": [
    "df.head()"
   ]
  },
  {
   "cell_type": "code",
   "execution_count": 6,
   "id": "4075ec88-63fc-4dad-9eff-87288af4e668",
   "metadata": {},
   "outputs": [],
   "source": [
    "import neattext.functions as nfx"
   ]
  },
  {
   "cell_type": "code",
   "execution_count": 8,
   "id": "4f720908-af9a-44df-9fa4-0daf1de8b5dd",
   "metadata": {},
   "outputs": [],
   "source": [
    "df['tweet_clean'] = df['tweet'].apply(lambda x: nfx.remove_stopwords(str(x).lower()))\n",
    "df['tweet_clean'] = df['tweet_clean'].apply(lambda x: nfx.remove_special_characters(str(x).lower()))\n",
    "df['tweet_clean'] = df['tweet_clean'].apply(lambda x: nfx.remove_hashtags(str(x).lower()))\n",
    "df['tweet_clean'] = df['tweet_clean'].apply(lambda x: nfx.remove_punctuations(str(x).lower()))\n"
   ]
  },
  {
   "cell_type": "code",
   "execution_count": 9,
   "id": "fe21525e-dcf1-45db-8e37-63bb9cc078d4",
   "metadata": {},
   "outputs": [],
   "source": [
    "# Features & Labels\n",
    "Xfeatures = df['tweet_clean']\n",
    "ylabels = df['class_labels']\n",
    "ylabels_int = df['class']"
   ]
  },
  {
   "cell_type": "code",
   "execution_count": 10,
   "id": "79d173c2-a96f-4d1f-8d7a-b6574a3bf658",
   "metadata": {},
   "outputs": [],
   "source": [
    "# Split the dataset\n",
    "x_train, x_test, y_train, y_test = train_test_split(Xfeatures, ylabels_int, test_size=0.3, random_state=42)\n"
   ]
  },
  {
   "cell_type": "code",
   "execution_count": 11,
   "id": "10ef9878-e438-4bc3-8211-7bece072b9f2",
   "metadata": {},
   "outputs": [],
   "source": [
    "pipe_base = Pipeline(steps=[('cv', CountVectorizer()), ('dummy', DummyClassifier())])\n",
    "pipe_nb = Pipeline(steps=[('cv', CountVectorizer()), ('nb', MultinomialNB())])\n",
    "pipe_lr = Pipeline(steps=[('cv', CountVectorizer()), ('lr', LogisticRegression())])\n",
    "pipe_lr_tfidf = Pipeline(steps=[('tfidf', TfidfVectorizer()), ('lr', LogisticRegression())])\n"
   ]
  },
  {
   "cell_type": "code",
   "execution_count": 12,
   "id": "3e2a88e0-e922-450a-9b0f-4be09cebd699",
   "metadata": {},
   "outputs": [
    {
     "data": {
      "text/html": [
       "<style>#sk-container-id-1 {color: black;}#sk-container-id-1 pre{padding: 0;}#sk-container-id-1 div.sk-toggleable {background-color: white;}#sk-container-id-1 label.sk-toggleable__label {cursor: pointer;display: block;width: 100%;margin-bottom: 0;padding: 0.3em;box-sizing: border-box;text-align: center;}#sk-container-id-1 label.sk-toggleable__label-arrow:before {content: \"▸\";float: left;margin-right: 0.25em;color: #696969;}#sk-container-id-1 label.sk-toggleable__label-arrow:hover:before {color: black;}#sk-container-id-1 div.sk-estimator:hover label.sk-toggleable__label-arrow:before {color: black;}#sk-container-id-1 div.sk-toggleable__content {max-height: 0;max-width: 0;overflow: hidden;text-align: left;background-color: #f0f8ff;}#sk-container-id-1 div.sk-toggleable__content pre {margin: 0.2em;color: black;border-radius: 0.25em;background-color: #f0f8ff;}#sk-container-id-1 input.sk-toggleable__control:checked~div.sk-toggleable__content {max-height: 200px;max-width: 100%;overflow: auto;}#sk-container-id-1 input.sk-toggleable__control:checked~label.sk-toggleable__label-arrow:before {content: \"▾\";}#sk-container-id-1 div.sk-estimator input.sk-toggleable__control:checked~label.sk-toggleable__label {background-color: #d4ebff;}#sk-container-id-1 div.sk-label input.sk-toggleable__control:checked~label.sk-toggleable__label {background-color: #d4ebff;}#sk-container-id-1 input.sk-hidden--visually {border: 0;clip: rect(1px 1px 1px 1px);clip: rect(1px, 1px, 1px, 1px);height: 1px;margin: -1px;overflow: hidden;padding: 0;position: absolute;width: 1px;}#sk-container-id-1 div.sk-estimator {font-family: monospace;background-color: #f0f8ff;border: 1px dotted black;border-radius: 0.25em;box-sizing: border-box;margin-bottom: 0.5em;}#sk-container-id-1 div.sk-estimator:hover {background-color: #d4ebff;}#sk-container-id-1 div.sk-parallel-item::after {content: \"\";width: 100%;border-bottom: 1px solid gray;flex-grow: 1;}#sk-container-id-1 div.sk-label:hover label.sk-toggleable__label {background-color: #d4ebff;}#sk-container-id-1 div.sk-serial::before {content: \"\";position: absolute;border-left: 1px solid gray;box-sizing: border-box;top: 0;bottom: 0;left: 50%;z-index: 0;}#sk-container-id-1 div.sk-serial {display: flex;flex-direction: column;align-items: center;background-color: white;padding-right: 0.2em;padding-left: 0.2em;position: relative;}#sk-container-id-1 div.sk-item {position: relative;z-index: 1;}#sk-container-id-1 div.sk-parallel {display: flex;align-items: stretch;justify-content: center;background-color: white;position: relative;}#sk-container-id-1 div.sk-item::before, #sk-container-id-1 div.sk-parallel-item::before {content: \"\";position: absolute;border-left: 1px solid gray;box-sizing: border-box;top: 0;bottom: 0;left: 50%;z-index: -1;}#sk-container-id-1 div.sk-parallel-item {display: flex;flex-direction: column;z-index: 1;position: relative;background-color: white;}#sk-container-id-1 div.sk-parallel-item:first-child::after {align-self: flex-end;width: 50%;}#sk-container-id-1 div.sk-parallel-item:last-child::after {align-self: flex-start;width: 50%;}#sk-container-id-1 div.sk-parallel-item:only-child::after {width: 0;}#sk-container-id-1 div.sk-dashed-wrapped {border: 1px dashed gray;margin: 0 0.4em 0.5em 0.4em;box-sizing: border-box;padding-bottom: 0.4em;background-color: white;}#sk-container-id-1 div.sk-label label {font-family: monospace;font-weight: bold;display: inline-block;line-height: 1.2em;}#sk-container-id-1 div.sk-label-container {text-align: center;}#sk-container-id-1 div.sk-container {/* jupyter's `normalize.less` sets `[hidden] { display: none; }` but bootstrap.min.css set `[hidden] { display: none !important; }` so we also need the `!important` here to be able to override the default hidden behavior on the sphinx rendered scikit-learn.org. See: https://github.com/scikit-learn/scikit-learn/issues/21755 */display: inline-block !important;position: relative;}#sk-container-id-1 div.sk-text-repr-fallback {display: none;}</style><div id=\"sk-container-id-1\" class=\"sk-top-container\"><div class=\"sk-text-repr-fallback\"><pre>Pipeline(steps=[(&#x27;cv&#x27;, CountVectorizer()), (&#x27;dummy&#x27;, DummyClassifier())])</pre><b>In a Jupyter environment, please rerun this cell to show the HTML representation or trust the notebook. <br />On GitHub, the HTML representation is unable to render, please try loading this page with nbviewer.org.</b></div><div class=\"sk-container\" hidden><div class=\"sk-item sk-dashed-wrapped\"><div class=\"sk-label-container\"><div class=\"sk-label sk-toggleable\"><input class=\"sk-toggleable__control sk-hidden--visually\" id=\"sk-estimator-id-1\" type=\"checkbox\" ><label for=\"sk-estimator-id-1\" class=\"sk-toggleable__label sk-toggleable__label-arrow\">Pipeline</label><div class=\"sk-toggleable__content\"><pre>Pipeline(steps=[(&#x27;cv&#x27;, CountVectorizer()), (&#x27;dummy&#x27;, DummyClassifier())])</pre></div></div></div><div class=\"sk-serial\"><div class=\"sk-item\"><div class=\"sk-estimator sk-toggleable\"><input class=\"sk-toggleable__control sk-hidden--visually\" id=\"sk-estimator-id-2\" type=\"checkbox\" ><label for=\"sk-estimator-id-2\" class=\"sk-toggleable__label sk-toggleable__label-arrow\">CountVectorizer</label><div class=\"sk-toggleable__content\"><pre>CountVectorizer()</pre></div></div></div><div class=\"sk-item\"><div class=\"sk-estimator sk-toggleable\"><input class=\"sk-toggleable__control sk-hidden--visually\" id=\"sk-estimator-id-3\" type=\"checkbox\" ><label for=\"sk-estimator-id-3\" class=\"sk-toggleable__label sk-toggleable__label-arrow\">DummyClassifier</label><div class=\"sk-toggleable__content\"><pre>DummyClassifier()</pre></div></div></div></div></div></div></div>"
      ],
      "text/plain": [
       "Pipeline(steps=[('cv', CountVectorizer()), ('dummy', DummyClassifier())])"
      ]
     },
     "execution_count": 12,
     "metadata": {},
     "output_type": "execute_result"
    }
   ],
   "source": [
    "# Build Base Model\n",
    "pipe_base.fit(x_train,y_train)"
   ]
  },
  {
   "cell_type": "code",
   "execution_count": 13,
   "id": "43001b53-3b82-4209-9437-1958f9e8cb42",
   "metadata": {},
   "outputs": [
    {
     "data": {
      "text/plain": [
       "0.7729657027572293"
      ]
     },
     "execution_count": 13,
     "metadata": {},
     "output_type": "execute_result"
    }
   ],
   "source": [
    "pipe_base.score(x_test,y_test)"
   ]
  },
  {
   "cell_type": "code",
   "execution_count": 14,
   "id": "bd32ee43-7d91-49db-a80a-e0b7174aba23",
   "metadata": {},
   "outputs": [
    {
     "data": {
      "text/plain": [
       "0.853530598520511"
      ]
     },
     "execution_count": 14,
     "metadata": {},
     "output_type": "execute_result"
    }
   ],
   "source": [
    "pipe_nb.fit(x_train,y_train)\n",
    "pipe_nb.score(x_test,y_test)"
   ]
  },
  {
   "cell_type": "code",
   "execution_count": 16,
   "id": "e76eb55e-e9dc-4377-b7d0-cb0153476d90",
   "metadata": {},
   "outputs": [
    {
     "name": "stdout",
     "output_type": "stream",
     "text": [
      "              precision    recall  f1-score   support\n",
      "\n",
      "           0       0.39      0.02      0.03       427\n",
      "           1       0.85      0.99      0.91      5747\n",
      "           2       0.89      0.52      0.66      1261\n",
      "\n",
      "    accuracy                           0.85      7435\n",
      "   macro avg       0.71      0.51      0.53      7435\n",
      "weighted avg       0.83      0.85      0.82      7435\n",
      "\n"
     ]
    }
   ],
   "source": [
    "# Model Evaluation\n",
    "y_pred = pipe_nb.predict(x_test)\n",
    "print(classification_report(y_test,y_pred))"
   ]
  },
  {
   "cell_type": "code",
   "execution_count": 17,
   "id": "20e5f022-3b5f-477a-ab52-b1e48aeda820",
   "metadata": {},
   "outputs": [
    {
     "data": {
      "text/plain": [
       "{'0': {'precision': 0.3888888888888889,\n",
       "  'recall': 0.01639344262295082,\n",
       "  'f1-score': 0.03146067415730337,\n",
       "  'support': 427.0},\n",
       " '1': {'precision': 0.8512136649685346,\n",
       "  'recall': 0.9885157473464417,\n",
       "  'f1-score': 0.9147411641574753,\n",
       "  'support': 5747.0},\n",
       " '2': {'precision': 0.8855989232839838,\n",
       "  'recall': 0.5218080888183981,\n",
       "  'f1-score': 0.656686626746507,\n",
       "  'support': 1261.0},\n",
       " 'accuracy': 0.853530598520511,\n",
       " 'macro avg': {'precision': 0.7085671590471359,\n",
       "  'recall': 0.5089057595959302,\n",
       "  'f1-score': 0.5342961550204285,\n",
       "  'support': 7435.0},\n",
       " 'weighted avg': {'precision': 0.8304937095347448,\n",
       "  'recall': 0.853530598520511,\n",
       "  'f1-score': 0.8202465386154035,\n",
       "  'support': 7435.0}}"
      ]
     },
     "execution_count": 17,
     "metadata": {},
     "output_type": "execute_result"
    }
   ],
   "source": [
    "eval_report = classification_report(y_test,y_pred,output_dict=True)\n",
    "eval_report"
   ]
  },
  {
   "cell_type": "code",
   "execution_count": 18,
   "id": "4d884fe5-fab4-4c53-b3bc-3be2c701bb64",
   "metadata": {},
   "outputs": [],
   "source": [
    "### ML Tracking\n",
    "import mlflow"
   ]
  },
  {
   "cell_type": "code",
   "execution_count": 19,
   "id": "f2fc98f8-a3a5-4653-8041-a0203ae20376",
   "metadata": {},
   "outputs": [
    {
     "name": "stderr",
     "output_type": "stream",
     "text": [
      "2024/09/23 00:30:56 INFO mlflow.tracking.fluent: Experiment with name 'Hate Speech Detection Experiment' does not exist. Creating a new experiment.\n"
     ]
    }
   ],
   "source": [
    "mlflow.set_experiment(\"Hate Speech Detection Experiment\")\n",
    "mlflow.set_tracking_uri(\"http://127.0.0.1:5000/\")"
   ]
  },
  {
   "cell_type": "code",
   "execution_count": 20,
   "id": "6df24c35-82b6-45b9-b2b0-5309ef3dc326",
   "metadata": {},
   "outputs": [
    {
     "name": "stderr",
     "output_type": "stream",
     "text": [
      "2024/09/23 00:34:51 WARNING mlflow.models.model: Model logged without a signature and input example. Please set `input_example` parameter when logging the model to auto infer the model signature.\n",
      "2024/09/23 00:34:51 INFO mlflow.tracking._tracking_service.client: 🏃 View run intrigued-wolf-982 at: http://127.0.0.1:5000/#/experiments/328272098298209501/runs/cd126452b3ee4d63b7ad7e01d79a5a6c.\n",
      "2024/09/23 00:34:51 INFO mlflow.tracking._tracking_service.client: 🧪 View experiment at: http://127.0.0.1:5000/#/experiments/328272098298209501.\n"
     ]
    }
   ],
   "source": [
    "with mlflow.start_run():\n",
    "    # Log Params\n",
    "    # log Metrics\n",
    "    mlflow.log_metrics({\"accuracy\":eval_report['accuracy']})\n",
    "    # log Models\n",
    "    mlflow.sklearn.log_model(pipe_nb,\"Pipe Naive Bayes\")"
   ]
  },
  {
   "cell_type": "code",
   "execution_count": 21,
   "id": "60ea1c9c-f289-433d-be12-6055a47f80e1",
   "metadata": {},
   "outputs": [],
   "source": [
    "# Function to train and log model\n",
    "def train_and_log_model(model,model_name):\n",
    "    with mlflow.start_run():\n",
    "        model.fit(x_train,y_train)\n",
    "        y_pred = model.predict(x_test)\n",
    "        eval_report = classification_report(y_test,y_pred,output_dict=True)\n",
    "        # MLflow to log\n",
    "        mlflow.log_param(\"model\",model_name)\n",
    "        mlflow.log_metric(\"accuracy\", model.score(x_test, y_test))\n",
    "        mlflow.log_metric(\"precision\", eval_report['weighted avg']['precision'])\n",
    "        mlflow.log_metric(\"recall\", eval_report['weighted avg']['recall'])\n",
    "        mlflow.log_metric(\"f1-score\", eval_report['weighted avg']['f1-score'])\n",
    "        \n",
    "        # Log the \n",
    "        mlflow.sklearn.log_model(model,model_name)"
   ]
  },
  {
   "cell_type": "code",
   "execution_count": 22,
   "id": "759cec8a-9a55-4adb-92ad-a0d0484e7931",
   "metadata": {},
   "outputs": [
    {
     "name": "stderr",
     "output_type": "stream",
     "text": [
      "C:\\Users\\jesse\\AppData\\Roaming\\Python\\Python311\\site-packages\\sklearn\\metrics\\_classification.py:1469: UndefinedMetricWarning: Precision and F-score are ill-defined and being set to 0.0 in labels with no predicted samples. Use `zero_division` parameter to control this behavior.\n",
      "  _warn_prf(average, modifier, msg_start, len(result))\n",
      "C:\\Users\\jesse\\AppData\\Roaming\\Python\\Python311\\site-packages\\sklearn\\metrics\\_classification.py:1469: UndefinedMetricWarning: Precision and F-score are ill-defined and being set to 0.0 in labels with no predicted samples. Use `zero_division` parameter to control this behavior.\n",
      "  _warn_prf(average, modifier, msg_start, len(result))\n",
      "C:\\Users\\jesse\\AppData\\Roaming\\Python\\Python311\\site-packages\\sklearn\\metrics\\_classification.py:1469: UndefinedMetricWarning: Precision and F-score are ill-defined and being set to 0.0 in labels with no predicted samples. Use `zero_division` parameter to control this behavior.\n",
      "  _warn_prf(average, modifier, msg_start, len(result))\n",
      "2024/09/23 00:41:20 WARNING mlflow.models.model: Model logged without a signature and input example. Please set `input_example` parameter when logging the model to auto infer the model signature.\n",
      "2024/09/23 00:41:20 INFO mlflow.tracking._tracking_service.client: 🏃 View run delightful-smelt-264 at: http://127.0.0.1:5000/#/experiments/328272098298209501/runs/a097432caa624eb4a7fc1f1e2966a707.\n",
      "2024/09/23 00:41:20 INFO mlflow.tracking._tracking_service.client: 🧪 View experiment at: http://127.0.0.1:5000/#/experiments/328272098298209501.\n",
      "2024/09/23 00:41:24 WARNING mlflow.models.model: Model logged without a signature and input example. Please set `input_example` parameter when logging the model to auto infer the model signature.\n",
      "2024/09/23 00:41:24 INFO mlflow.tracking._tracking_service.client: 🏃 View run rumbling-penguin-338 at: http://127.0.0.1:5000/#/experiments/328272098298209501/runs/c215cb9ab75142578b1a9fae9b93ba90.\n",
      "2024/09/23 00:41:24 INFO mlflow.tracking._tracking_service.client: 🧪 View experiment at: http://127.0.0.1:5000/#/experiments/328272098298209501.\n",
      "C:\\Users\\jesse\\AppData\\Roaming\\Python\\Python311\\site-packages\\sklearn\\linear_model\\_logistic.py:460: ConvergenceWarning: lbfgs failed to converge (status=1):\n",
      "STOP: TOTAL NO. of ITERATIONS REACHED LIMIT.\n",
      "\n",
      "Increase the number of iterations (max_iter) or scale the data as shown in:\n",
      "    https://scikit-learn.org/stable/modules/preprocessing.html\n",
      "Please also refer to the documentation for alternative solver options:\n",
      "    https://scikit-learn.org/stable/modules/linear_model.html#logistic-regression\n",
      "  n_iter_i = _check_optimize_result(\n",
      "2024/09/23 00:41:29 WARNING mlflow.models.model: Model logged without a signature and input example. Please set `input_example` parameter when logging the model to auto infer the model signature.\n",
      "2024/09/23 00:41:29 INFO mlflow.tracking._tracking_service.client: 🏃 View run debonair-vole-571 at: http://127.0.0.1:5000/#/experiments/328272098298209501/runs/c3ef641e86f8432a9346d7cb7a542f88.\n",
      "2024/09/23 00:41:29 INFO mlflow.tracking._tracking_service.client: 🧪 View experiment at: http://127.0.0.1:5000/#/experiments/328272098298209501.\n",
      "C:\\Users\\jesse\\AppData\\Roaming\\Python\\Python311\\site-packages\\sklearn\\linear_model\\_logistic.py:460: ConvergenceWarning: lbfgs failed to converge (status=1):\n",
      "STOP: TOTAL NO. of ITERATIONS REACHED LIMIT.\n",
      "\n",
      "Increase the number of iterations (max_iter) or scale the data as shown in:\n",
      "    https://scikit-learn.org/stable/modules/preprocessing.html\n",
      "Please also refer to the documentation for alternative solver options:\n",
      "    https://scikit-learn.org/stable/modules/linear_model.html#logistic-regression\n",
      "  n_iter_i = _check_optimize_result(\n",
      "2024/09/23 00:41:34 WARNING mlflow.models.model: Model logged without a signature and input example. Please set `input_example` parameter when logging the model to auto infer the model signature.\n",
      "2024/09/23 00:41:34 INFO mlflow.tracking._tracking_service.client: 🏃 View run upset-fish-168 at: http://127.0.0.1:5000/#/experiments/328272098298209501/runs/ce9e59ff156944b49b1e11eb837d648f.\n",
      "2024/09/23 00:41:34 INFO mlflow.tracking._tracking_service.client: 🧪 View experiment at: http://127.0.0.1:5000/#/experiments/328272098298209501.\n"
     ]
    }
   ],
   "source": [
    "# Train and Track Model\n",
    "train_and_log_model(pipe_base,\"Dummy Classifier\")\n",
    "train_and_log_model(pipe_nb,\"Naive Bayes\")\n",
    "train_and_log_model(pipe_lr, \"Logistic Regression with CountVectorizer\")\n",
    "train_and_log_model(pipe_lr_tfidf, \"Logistic Regression with TfidfVectorizer\")"
   ]
  },
  {
   "cell_type": "code",
   "execution_count": 23,
   "id": "0b2d2d7f-9f4b-4072-9703-ccd226ecedc9",
   "metadata": {},
   "outputs": [],
   "source": [
    "### Thanks for your attention\n",
    "### Jesus Saves @JCharisTech\n",
    "### Jesse E.Agbe (JCharis) Sept 2024"
   ]
  },
  {
   "cell_type": "code",
   "execution_count": null,
   "id": "925d5f80-f164-4dd8-b662-dad0d5273431",
   "metadata": {},
   "outputs": [],
   "source": []
  }
 ],
 "metadata": {
  "kernelspec": {
   "display_name": "Python 3 (ipykernel)",
   "language": "python",
   "name": "python3"
  },
  "language_info": {
   "codemirror_mode": {
    "name": "ipython",
    "version": 3
   },
   "file_extension": ".py",
   "mimetype": "text/x-python",
   "name": "python",
   "nbconvert_exporter": "python",
   "pygments_lexer": "ipython3",
   "version": "3.11.4"
  }
 },
 "nbformat": 4,
 "nbformat_minor": 5
}
